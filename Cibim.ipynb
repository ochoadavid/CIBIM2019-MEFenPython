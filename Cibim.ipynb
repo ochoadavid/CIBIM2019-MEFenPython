{
 "cells": [
  {
   "cell_type": "markdown",
   "metadata": {},
   "source": [
    "## Declaraciones de las funciones y objetos utilizados"
   ]
  },
  {
   "cell_type": "code",
   "execution_count": 1,
   "metadata": {},
   "outputs": [],
   "source": [
    "from sympy import symbols, Matrix, pprint, Eq, init_printing, zeros\n",
    "from numpy import linspace, meshgrid\n",
    "init_printing(use_latex=True)"
   ]
  },
  {
   "cell_type": "markdown",
   "metadata": {},
   "source": [
    "Los __simbolos__ se declaran con la función `symbol()`. "
   ]
  },
  {
   "cell_type": "code",
   "execution_count": 2,
   "metadata": {},
   "outputs": [],
   "source": [
    "x_1, x_2, x_3 = symbols('x_1, x_2, x_3')\n",
    "y_1, y_2, y_3 = symbols('y_1, y_2, y_3')\n",
    "b_1, b_2, b_3 = symbols('b_1, b_2, b_3')\n",
    "c_1, c_2, c_3 = symbols('c_1, c_2, c_3')\n",
    "A, k = symbols('A, k')"
   ]
  },
  {
   "cell_type": "markdown",
   "metadata": {},
   "source": [
    "Declaramos los vectores que contienen las variables anteriores usando `Matrix` y los guardamos en el diccionario del elemento modelo `e_mod`:"
   ]
  },
  {
   "cell_type": "code",
   "execution_count": 3,
   "metadata": {},
   "outputs": [],
   "source": [
    "e_mod = {}\n",
    "e_mod['x'] = Matrix([x_1, x_2, x_3])\n",
    "e_mod['y'] = Matrix([y_1, y_2, y_3])\n",
    "e_mod['b'] = Matrix([b_1, b_2, b_3])\n",
    "e_mod['c'] = Matrix([c_1, c_2, c_3])\n",
    "e_mod['A'] = A"
   ]
  },
  {
   "cell_type": "markdown",
   "metadata": {},
   "source": [
    "Substituyendo los valores de _b<sub>i</sub>_ y _c<sub>i</sub>_."
   ]
  },
  {
   "cell_type": "code",
   "execution_count": 4,
   "metadata": {},
   "outputs": [],
   "source": [
    "e_mod['b'] = e_mod['b'].subs(b_1, e_mod['y'][1]-e_mod['y'][2])\n",
    "e_mod['b'] = e_mod['b'].subs(b_2, e_mod['y'][2]-e_mod['y'][0])\n",
    "e_mod['b'] = e_mod['b'].subs(b_3, e_mod['y'][0]-e_mod['y'][1])\n",
    "e_mod['c'] = e_mod['c'].subs(c_1, e_mod['x'][2]-e_mod['x'][1])\n",
    "e_mod['c'] = e_mod['c'].subs(c_2, e_mod['x'][0]-e_mod['x'][2])\n",
    "e_mod['c'] = e_mod['c'].subs(c_3, e_mod['x'][1]-e_mod['x'][0])"
   ]
  },
  {
   "cell_type": "markdown",
   "metadata": {},
   "source": [
    "Construimos la matriz `Ke` del elemento."
   ]
  },
  {
   "cell_type": "code",
   "execution_count": 5,
   "metadata": {},
   "outputs": [
    {
     "data": {
      "image/png": "[encoded data removed]",
      "text/latex": [
       "$\\displaystyle \\left[\\begin{matrix}\\frac{k \\left(\\left(- x_{2} + x_{3}\\right)^{2} + \\left(y_{2} - y_{3}\\right)^{2}\\right)}{4 A} & \\frac{k \\left(\\left(x_{1} - x_{3}\\right) \\left(- x_{2} + x_{3}\\right) + \\left(- y_{1} + y_{3}\\right) \\left(y_{2} - y_{3}\\right)\\right)}{4 A} & \\frac{k \\left(\\left(- x_{1} + x_{2}\\right) \\left(- x_{2} + x_{3}\\right) + \\left(y_{1} - y_{2}\\right) \\left(y_{2} - y_{3}\\right)\\right)}{4 A}\\\\\\frac{k \\left(\\left(x_{1} - x_{3}\\right) \\left(- x_{2} + x_{3}\\right) + \\left(- y_{1} + y_{3}\\right) \\left(y_{2} - y_{3}\\right)\\right)}{4 A} & \\frac{k \\left(\\left(x_{1} - x_{3}\\right)^{2} + \\left(- y_{1} + y_{3}\\right)^{2}\\right)}{4 A} & \\frac{k \\left(\\left(- x_{1} + x_{2}\\right) \\left(x_{1} - x_{3}\\right) + \\left(- y_{1} + y_{3}\\right) \\left(y_{1} - y_{2}\\right)\\right)}{4 A}\\\\\\frac{k \\left(\\left(- x_{1} + x_{2}\\right) \\left(- x_{2} + x_{3}\\right) + \\left(y_{1} - y_{2}\\right) \\left(y_{2} - y_{3}\\right)\\right)}{4 A} & \\frac{k \\left(\\left(- x_{1} + x_{2}\\right) \\left(x_{1} - x_{3}\\right) + \\left(- y_{1} + y_{3}\\right) \\left(y_{1} - y_{2}\\right)\\right)}{4 A} & \\frac{k \\left(\\left(- x_{1} + x_{2}\\right)^{2} + \\left(y_{1} - y_{2}\\right)^{2}\\right)}{4 A}\\end{matrix}\\right]$"
      ],
      "text/plain": [
       "⎡           ⎛          2            2⎞                                        \n",
       "⎢         k⋅⎝(-x₂ + x₃)  + (y₂ - y₃) ⎠            k⋅((x₁ - x₃)⋅(-x₂ + x₃) + (-\n",
       "⎢         ────────────────────────────            ────────────────────────────\n",
       "⎢                     4⋅A                                               4⋅A   \n",
       "⎢                                                                             \n",
       "⎢                                                            ⎛         2      \n",
       "⎢k⋅((x₁ - x₃)⋅(-x₂ + x₃) + (-y₁ + y₃)⋅(y₂ - y₃))           k⋅⎝(x₁ - x₃)  + (-y\n",
       "⎢───────────────────────────────────────────────           ───────────────────\n",
       "⎢                      4⋅A                                             4⋅A    \n",
       "⎢                                                                             \n",
       "⎢                                                                             \n",
       "⎢k⋅((-x₁ + x₂)⋅(-x₂ + x₃) + (y₁ - y₂)⋅(y₂ - y₃))  k⋅((-x₁ + x₂)⋅(x₁ - x₃) + (-\n",
       "⎢───────────────────────────────────────────────  ────────────────────────────\n",
       "⎣                      4⋅A                                              4⋅A   \n",
       "\n",
       "                                                                    ⎤\n",
       "y₁ + y₃)⋅(y₂ - y₃))  k⋅((-x₁ + x₂)⋅(-x₂ + x₃) + (y₁ - y₂)⋅(y₂ - y₃))⎥\n",
       "───────────────────  ───────────────────────────────────────────────⎥\n",
       "                                           4⋅A                      ⎥\n",
       "                                                                    ⎥\n",
       "       2⎞                                                           ⎥\n",
       "₁ + y₃) ⎠            k⋅((-x₁ + x₂)⋅(x₁ - x₃) + (-y₁ + y₃)⋅(y₁ - y₂))⎥\n",
       "─────────            ───────────────────────────────────────────────⎥\n",
       "                                           4⋅A                      ⎥\n",
       "                                                                    ⎥\n",
       "                                ⎛          2            2⎞          ⎥\n",
       "y₁ + y₃)⋅(y₁ - y₂))           k⋅⎝(-x₁ + x₂)  + (y₁ - y₂) ⎠          ⎥\n",
       "───────────────────           ────────────────────────────          ⎥\n",
       "                                          4⋅A                       ⎦"
      ]
     },
     "execution_count": 5,
     "metadata": {},
     "output_type": "execute_result"
    }
   ],
   "source": [
    "K_e = zeros(3,3)\n",
    "for i in range(0,3):\n",
    "    for j in range(0,3):\n",
    "        K_e[i,j] = e_mod['b'][i]*e_mod['b'][j]+e_mod['c'][i]*e_mod['c'][j]\n",
    "e_mod['K'] = k / 4 / e_mod['A'] * K_e\n",
    "e_mod['F'] = Matrix([0,0,0])\n",
    "e_mod['K']"
   ]
  },
  {
   "cell_type": "markdown",
   "metadata": {},
   "source": [
    "A continuación creamos las coordenadas para una malla regular. `div` es el número de nodos en __x__ y en __y__."
   ]
  },
  {
   "cell_type": "code",
   "execution_count": 6,
   "metadata": {},
   "outputs": [],
   "source": [
    "div = 3\n",
    "\n",
    "xx = linspace(0,0.1,div)\n",
    "yy = linspace(0,0.1,div)\n",
    "\n",
    "dx = xx[1] - xx[0]\n",
    "dy = yy[1] - yy[0]"
   ]
  },
  {
   "cell_type": "markdown",
   "metadata": {},
   "source": [
    "El elemento modelo es copiado en con el siguiente ciclo `for`, ya con las coordenadas de cada elemento substituidas."
   ]
  },
  {
   "cell_type": "code",
   "execution_count": 7,
   "metadata": {},
   "outputs": [],
   "source": [
    "elementos = []\n",
    "\n",
    "for j, y in enumerate(yy[:-1]):\n",
    "    for i, x in enumerate(xx[:-1]):\n",
    "        var = {'x_1': x, 'x_2': x, 'x_3': x+dx,\n",
    "               'y_1': y, 'y_2': y+dy, 'y_3': y,\n",
    "               'A': dx*dy/2, 'k': 50.0}\n",
    "        e1 = {'n':[i+j*div,i+(j+1)*div,i+1+j*div]}\n",
    "        for ee in e_mod:\n",
    "            e1[ee] = e_mod[ee].subs(var)\n",
    "        elementos.append(e1)\n",
    "        \n",
    "        var = {'x_1': x, 'x_2': x+dx, 'x_3': x+dx,\n",
    "               'y_1': y+dx, 'y_2': y+dy, 'y_3': y,\n",
    "               'A': dx*dy/2, 'k': 50.0}\n",
    "        e2 = {'n':[i+(j+1)*div,i+1+(j+1)*div,i+1+j*div]}\n",
    "        for ee in e_mod:\n",
    "            e2[ee] = e_mod[ee].subs(var)    \n",
    "        elementos.append(e2)\n",
    "\n",
    "n = i+1+(j+1)*div"
   ]
  },
  {
   "cell_type": "markdown",
   "metadata": {},
   "source": [
    "Modificamos ahora los elemntos con generación (en este ejemplo ningúno)."
   ]
  },
  {
   "cell_type": "code",
   "execution_count": 8,
   "metadata": {},
   "outputs": [],
   "source": [
    "Q = 0\n",
    "for e in elementos:\n",
    "    F = Q * e['A']/3 * Matrix([1,1,1])\n",
    "    e.update({'F':F})"
   ]
  },
  {
   "cell_type": "markdown",
   "metadata": {},
   "source": [
    "Vector fuerza, aplicado en los nodos de los elementos con flujo de calor."
   ]
  },
  {
   "cell_type": "code",
   "execution_count": 9,
   "metadata": {},
   "outputs": [],
   "source": [
    "F1 = 10000 * dy / 2 * Matrix([1,1,0])\n",
    "for e in elementos:\n",
    "    if e['x'][1] == 0:\n",
    "        e['F'] = e['F'] + F1"
   ]
  },
  {
   "cell_type": "markdown",
   "metadata": {},
   "source": [
    "Ensamblamos la matriz __K__  y el vector __F__ del sistema utilizando la información de los nodos. "
   ]
  },
  {
   "cell_type": "code",
   "execution_count": 10,
   "metadata": {},
   "outputs": [
    {
     "data": {
      "image/png": "[encoded data removed]",
      "text/latex": [
       "$\\displaystyle \\left[\\begin{matrix}50.0 & -25.0 & 0 & -25.0 & 0 & 0 & 0 & 0 & 0\\\\-25.0 & 100.0 & -25.0 & 0 & -50.0 & 0 & 0 & 0 & 0\\\\0 & -25.0 & 50.0 & 0 & 0 & -25.0 & 0 & 0 & 0\\\\-25.0 & 0 & 0 & 100.0 & -50.0 & 0 & -25.0 & 0 & 0\\\\0 & -50.0 & 0 & -50.0 & 200.0 & -50.0 & 0 & -50.0 & 0\\\\0 & 0 & -25.0 & 0 & -50.0 & 100.0 & 0 & 0 & -25.0\\\\0 & 0 & 0 & -25.0 & 0 & 0 & 50.0 & -25.0 & 0\\\\0 & 0 & 0 & 0 & -50.0 & 0 & -25.0 & 100.0 & -25.0\\\\0 & 0 & 0 & 0 & 0 & -25.0 & 0 & -25.0 & 50.0\\end{matrix}\\right]$"
      ],
      "text/plain": [
       "⎡50.0   -25.0    0    -25.0    0      0      0      0      0  ⎤\n",
       "⎢                                                             ⎥\n",
       "⎢-25.0  100.0  -25.0    0    -50.0    0      0      0      0  ⎥\n",
       "⎢                                                             ⎥\n",
       "⎢  0    -25.0  50.0     0      0    -25.0    0      0      0  ⎥\n",
       "⎢                                                             ⎥\n",
       "⎢-25.0    0      0    100.0  -50.0    0    -25.0    0      0  ⎥\n",
       "⎢                                                             ⎥\n",
       "⎢  0    -50.0    0    -50.0  200.0  -50.0    0    -50.0    0  ⎥\n",
       "⎢                                                             ⎥\n",
       "⎢  0      0    -25.0    0    -50.0  100.0    0      0    -25.0⎥\n",
       "⎢                                                             ⎥\n",
       "⎢  0      0      0    -25.0    0      0    50.0   -25.0    0  ⎥\n",
       "⎢                                                             ⎥\n",
       "⎢  0      0      0      0    -50.0    0    -25.0  100.0  -25.0⎥\n",
       "⎢                                                             ⎥\n",
       "⎣  0      0      0      0      0    -25.0    0    -25.0  50.0 ⎦"
      ]
     },
     "execution_count": 10,
     "metadata": {},
     "output_type": "execute_result"
    }
   ],
   "source": [
    "K = zeros(n+1,n+1)\n",
    "F = zeros(n+1,1)\n",
    "for e in elementos:\n",
    "    for i, j in enumerate(e['n']):\n",
    "        for k, m in enumerate(e['n']):\n",
    "            #print(j,m)\n",
    "            K[j,m] = K[j,m] + e['K'][i,k]\n",
    "        F[j] = F[j] + e['F'][i]\n",
    "        \n",
    "K"
   ]
  },
  {
   "cell_type": "markdown",
   "metadata": {},
   "source": [
    "Finalmente construimos un vector con las temperaturas conocidas."
   ]
  },
  {
   "cell_type": "code",
   "execution_count": 11,
   "metadata": {},
   "outputs": [
    {
     "data": {
      "image/png": "[encoded data removed]",
      "text/latex": [
       "$\\displaystyle \\left[\\begin{matrix}250.0\\\\0\\\\0\\\\500.0\\\\0\\\\0\\\\250.0\\\\0\\\\0\\end{matrix}\\right]$"
      ],
      "text/plain": [
       "⎡250.0⎤\n",
       "⎢     ⎥\n",
       "⎢  0  ⎥\n",
       "⎢     ⎥\n",
       "⎢  0  ⎥\n",
       "⎢     ⎥\n",
       "⎢500.0⎥\n",
       "⎢     ⎥\n",
       "⎢  0  ⎥\n",
       "⎢     ⎥\n",
       "⎢  0  ⎥\n",
       "⎢     ⎥\n",
       "⎢250.0⎥\n",
       "⎢     ⎥\n",
       "⎢  0  ⎥\n",
       "⎢     ⎥\n",
       "⎣  0  ⎦"
      ]
     },
     "execution_count": 11,
     "metadata": {},
     "output_type": "execute_result"
    }
   ],
   "source": [
    "F"
   ]
  },
  {
   "cell_type": "markdown",
   "metadata": {},
   "source": [
    "Construimos un vector con la temperatura conocida para los nodos que tienen dicha condición. Las temperaturas incógnita se colocan como `None`."
   ]
  },
  {
   "cell_type": "code",
   "execution_count": 12,
   "metadata": {},
   "outputs": [
    {
     "data": {
      "image/png": "[encoded data removed]",
      "text/latex": [
       "$\\displaystyle \\left[\\begin{matrix}100\\\\100\\\\100\\\\\\text{None}\\\\\\text{None}\\\\100\\\\100\\\\100\\\\100\\end{matrix}\\right]$"
      ],
      "text/plain": [
       "⎡100 ⎤\n",
       "⎢    ⎥\n",
       "⎢100 ⎥\n",
       "⎢    ⎥\n",
       "⎢100 ⎥\n",
       "⎢    ⎥\n",
       "⎢None⎥\n",
       "⎢    ⎥\n",
       "⎢None⎥\n",
       "⎢    ⎥\n",
       "⎢100 ⎥\n",
       "⎢    ⎥\n",
       "⎢100 ⎥\n",
       "⎢    ⎥\n",
       "⎢100 ⎥\n",
       "⎢    ⎥\n",
       "⎣100 ⎦"
      ]
     },
     "execution_count": 12,
     "metadata": {},
     "output_type": "execute_result"
    }
   ],
   "source": [
    "Tf = Matrix([None] * int(n+1))\n",
    "for i, e in enumerate(elementos):\n",
    "    for x, y, nn in zip(e['x'],e['y'],e['n']):\n",
    "        if x > 0.09999:\n",
    "            Tf[nn]= 100\n",
    "        if y > 0.09999:\n",
    "            Tf[nn]= 100\n",
    "        if y < 0.00001:\n",
    "            Tf[nn]= 100\n",
    "Tf"
   ]
  },
  {
   "cell_type": "markdown",
   "metadata": {},
   "source": [
    "Y modificamos la matriz K, para quitar dichas incognitas."
   ]
  },
  {
   "cell_type": "code",
   "execution_count": 13,
   "metadata": {},
   "outputs": [
    {
     "data": {
      "image/png": "[encoded data removed]",
      "text/latex": [
       "$\\displaystyle \\left[\\begin{matrix}1 & 0 & 0 & 0 & 0 & 0 & 0 & 0 & 0\\\\0 & 1 & 0 & 0 & 0 & 0 & 0 & 0 & 0\\\\0 & 0 & 1 & 0 & 0 & 0 & 0 & 0 & 0\\\\-25.0 & 0 & 0 & 100.0 & -50.0 & 0 & -25.0 & 0 & 0\\\\0 & -50.0 & 0 & -50.0 & 200.0 & -50.0 & 0 & -50.0 & 0\\\\0 & 0 & 0 & 0 & 0 & 1 & 0 & 0 & 0\\\\0 & 0 & 0 & 0 & 0 & 0 & 1 & 0 & 0\\\\0 & 0 & 0 & 0 & 0 & 0 & 0 & 1 & 0\\\\0 & 0 & 0 & 0 & 0 & 0 & 0 & 0 & 1\\end{matrix}\\right]$"
      ],
      "text/plain": [
       "⎡  1      0    0    0      0      0      0      0    0⎤\n",
       "⎢                                                     ⎥\n",
       "⎢  0      1    0    0      0      0      0      0    0⎥\n",
       "⎢                                                     ⎥\n",
       "⎢  0      0    1    0      0      0      0      0    0⎥\n",
       "⎢                                                     ⎥\n",
       "⎢-25.0    0    0  100.0  -50.0    0    -25.0    0    0⎥\n",
       "⎢                                                     ⎥\n",
       "⎢  0    -50.0  0  -50.0  200.0  -50.0    0    -50.0  0⎥\n",
       "⎢                                                     ⎥\n",
       "⎢  0      0    0    0      0      1      0      0    0⎥\n",
       "⎢                                                     ⎥\n",
       "⎢  0      0    0    0      0      0      1      0    0⎥\n",
       "⎢                                                     ⎥\n",
       "⎢  0      0    0    0      0      0      0      1    0⎥\n",
       "⎢                                                     ⎥\n",
       "⎣  0      0    0    0      0      0      0      0    1⎦"
      ]
     },
     "execution_count": 13,
     "metadata": {},
     "output_type": "execute_result"
    }
   ],
   "source": [
    "for i, t in enumerate(Tf):\n",
    "    if t is not None:\n",
    "        for j in range(n+1):\n",
    "            K[i,j] = 0\n",
    "            if i == j:\n",
    "                K[i,j] = 1\n",
    "            F[i] = t\n",
    "K"
   ]
  },
  {
   "cell_type": "markdown",
   "metadata": {},
   "source": [
    "El sistema se resuelve utilizando el método `LUsolve()`."
   ]
  },
  {
   "cell_type": "code",
   "execution_count": 14,
   "metadata": {},
   "outputs": [
    {
     "data": {
      "image/png": "[encoded data removed]",
      "text/latex": [
       "$\\displaystyle \\left[\\begin{matrix}100\\\\100\\\\100\\\\105.714285714286\\\\101.428571428571\\\\100\\\\100\\\\100\\\\100\\end{matrix}\\right]$"
      ],
      "text/plain": [
       "⎡      100       ⎤\n",
       "⎢                ⎥\n",
       "⎢      100       ⎥\n",
       "⎢                ⎥\n",
       "⎢      100       ⎥\n",
       "⎢                ⎥\n",
       "⎢105.714285714286⎥\n",
       "⎢                ⎥\n",
       "⎢101.428571428571⎥\n",
       "⎢                ⎥\n",
       "⎢      100       ⎥\n",
       "⎢                ⎥\n",
       "⎢      100       ⎥\n",
       "⎢                ⎥\n",
       "⎢      100       ⎥\n",
       "⎢                ⎥\n",
       "⎣      100       ⎦"
      ]
     },
     "execution_count": 14,
     "metadata": {},
     "output_type": "execute_result"
    }
   ],
   "source": [
    "T = K.LUsolve(F)\n",
    "T"
   ]
  },
  {
   "cell_type": "markdown",
   "metadata": {},
   "source": [
    "Para graficar el sistema utilizamos la librería __matplotlib__."
   ]
  },
  {
   "cell_type": "code",
   "execution_count": 15,
   "metadata": {},
   "outputs": [
    {
     "data": {
      "image/png": "[encoded data removed]",
      "text/plain": [
       "<Figure size 432x360 with 2 Axes>"
      ]
     },
     "metadata": {
      "needs_background": "light"
     },
     "output_type": "display_data"
    }
   ],
   "source": [
    "import matplotlib.pyplot as plt\n",
    "%matplotlib inline\n",
    "\n",
    "xc, yc = meshgrid(xx,yy)\n",
    "\n",
    "plt.figure(figsize=(6,5))\n",
    "\n",
    "cs = plt.contourf(xc,yc,T.reshape(xc.shape[0], xc.shape[1]))\n",
    "plt.axis('equal')\n",
    "\n",
    "plt.colorbar(cs)\n",
    "plt.axis('equal')\n",
    "plt.show()"
   ]
  }
 ],
 "metadata": {
  "kernelspec": {
   "display_name": "Python 3",
   "language": "python",
   "name": "python3"
  },
  "language_info": {
   "codemirror_mode": {
    "name": "ipython",
    "version": 3
   },
   "file_extension": ".py",
   "mimetype": "text/x-python",
   "name": "python",
   "nbconvert_exporter": "python",
   "pygments_lexer": "ipython3",
   "version": "3.6.7"
  }
 },
 "nbformat": 4,
 "nbformat_minor": 2
}
